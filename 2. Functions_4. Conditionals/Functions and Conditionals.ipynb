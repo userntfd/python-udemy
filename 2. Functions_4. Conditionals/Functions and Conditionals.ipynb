{
 "cells": [
  {
   "cell_type": "markdown",
   "metadata": {},
   "source": [
    "# Functions and Conditionals"
   ]
  },
  {
   "cell_type": "markdown",
   "metadata": {},
   "source": [
    "## Functions"
   ]
  },
  {
   "cell_type": "code",
   "execution_count": 1,
   "metadata": {},
   "outputs": [],
   "source": [
    "def minutes_to_hours(minutes):\n",
    "    hours=minutes/60;\n",
    "    return hours;"
   ]
  },
  {
   "cell_type": "code",
   "execution_count": 2,
   "metadata": {},
   "outputs": [
    {
     "name": "stdout",
     "output_type": "stream",
     "text": [
      "4.0\n"
     ]
    }
   ],
   "source": [
    "a=minutes_to_hours(240)\n",
    "print(a)"
   ]
  },
  {
   "cell_type": "code",
   "execution_count": 3,
   "metadata": {},
   "outputs": [],
   "source": [
    "def in_hours(minutes,seconds):\n",
    "    hours=minutes/60+seconds/3600;\n",
    "    return hours;"
   ]
  },
  {
   "cell_type": "code",
   "execution_count": 4,
   "metadata": {},
   "outputs": [
    {
     "name": "stdout",
     "output_type": "stream",
     "text": [
      "1.3055555555555556\n"
     ]
    }
   ],
   "source": [
    "b=in_hours(70,500)\n",
    "print(b)"
   ]
  },
  {
   "cell_type": "code",
   "execution_count": 5,
   "metadata": {},
   "outputs": [
    {
     "ename": "SyntaxError",
     "evalue": "non-default argument follows default argument (<ipython-input-5-e03aba71c039>, line 2)",
     "output_type": "error",
     "traceback": [
      "\u001b[1;36m  File \u001b[1;32m\"<ipython-input-5-e03aba71c039>\"\u001b[1;36m, line \u001b[1;32m2\u001b[0m\n\u001b[1;33m    def in_hours(minutes=70,seconds):\u001b[0m\n\u001b[1;37m                ^\u001b[0m\n\u001b[1;31mSyntaxError\u001b[0m\u001b[1;31m:\u001b[0m non-default argument follows default argument\n"
     ]
    }
   ],
   "source": [
    "## Setting default value\n",
    "def in_hours(minutes=70,seconds):\n",
    "    hours=minutes/60+seconds/3600;\n",
    "    return hours;"
   ]
  },
  {
   "cell_type": "code",
   "execution_count": 6,
   "metadata": {},
   "outputs": [],
   "source": [
    "##switch seconds and minutes input location in function\n",
    "def in_hours(seconds,minutes=60):\n",
    "    hours=minutes/60+seconds/3600;\n",
    "    return hours;"
   ]
  },
  {
   "cell_type": "code",
   "execution_count": 7,
   "metadata": {},
   "outputs": [
    {
     "name": "stdout",
     "output_type": "stream",
     "text": [
      "1.5\n"
     ]
    }
   ],
   "source": [
    "##only input given is seconds\n",
    "c=in_hours(1800)\n",
    "print(c)"
   ]
  },
  {
   "cell_type": "code",
   "execution_count": 8,
   "metadata": {},
   "outputs": [
    {
     "name": "stdout",
     "output_type": "stream",
     "text": [
      "4.5\n"
     ]
    }
   ],
   "source": [
    "##We can also overide the minutes value\n",
    "c=in_hours(1800,240)\n",
    "print(c)"
   ]
  },
  {
   "cell_type": "markdown",
   "metadata": {},
   "source": [
    "### Functions and User inputs"
   ]
  },
  {
   "cell_type": "code",
   "execution_count": 9,
   "metadata": {},
   "outputs": [],
   "source": [
    "def age_func(a):\n",
    "    new_age=int(a)+50\n",
    "    return new_age"
   ]
  },
  {
   "cell_type": "code",
   "execution_count": 10,
   "metadata": {},
   "outputs": [
    {
     "name": "stdout",
     "output_type": "stream",
     "text": [
      "Enter your age : 5\n",
      "55\n"
     ]
    }
   ],
   "source": [
    "age=input(\"Enter your age : \")\n",
    "print(age_func(age))"
   ]
  },
  {
   "cell_type": "markdown",
   "metadata": {},
   "source": [
    "## Conditionals"
   ]
  },
  {
   "cell_type": "code",
   "execution_count": 11,
   "metadata": {},
   "outputs": [
    {
     "name": "stdout",
     "output_type": "stream",
     "text": [
      "Equal or greater than 5\n"
     ]
    }
   ],
   "source": [
    "a=5;\n",
    "\n",
    "if a<5:\n",
    "    print(\"Less than 5\")\n",
    "else:\n",
    "    print(\"Equal or greater than 5\")\n",
    "        "
   ]
  },
  {
   "cell_type": "code",
   "execution_count": 12,
   "metadata": {},
   "outputs": [
    {
     "name": "stdout",
     "output_type": "stream",
     "text": [
      "Equal to 5\n"
     ]
    }
   ],
   "source": [
    "a=5;\n",
    "\n",
    "if a<5:\n",
    "    print(\"Less than 5\")\n",
    "elif a==5:\n",
    "    print(\"Equal to 5\")\n",
    "else:\n",
    "    print(\"Greater than 5\")"
   ]
  },
  {
   "cell_type": "markdown",
   "metadata": {},
   "source": [
    "### Advanced "
   ]
  },
  {
   "cell_type": "code",
   "execution_count": 13,
   "metadata": {},
   "outputs": [
    {
     "name": "stdout",
     "output_type": "stream",
     "text": [
      "Enter your age : 20\n",
      "70\n"
     ]
    }
   ],
   "source": [
    "def age_func(a):\n",
    "    new_age=int(a)+50\n",
    "    return new_age\n",
    "\n",
    "age=int(input(\"Enter your age : \"))\n",
    "\n",
    "if age<150:\n",
    "    print(age_func(age))\n",
    "else:\n",
    "    print(\"Is that possible\")"
   ]
  },
  {
   "cell_type": "code",
   "execution_count": null,
   "metadata": {},
   "outputs": [],
   "source": []
  }
 ],
 "metadata": {
  "kernelspec": {
   "display_name": "Python 3",
   "language": "python",
   "name": "python3"
  },
  "language_info": {
   "codemirror_mode": {
    "name": "ipython",
    "version": 3
   },
   "file_extension": ".py",
   "mimetype": "text/x-python",
   "name": "python",
   "nbconvert_exporter": "python",
   "pygments_lexer": "ipython3",
   "version": "3.5.0"
  }
 },
 "nbformat": 4,
 "nbformat_minor": 2
}
