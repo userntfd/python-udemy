{
 "cells": [
  {
   "cell_type": "markdown",
   "metadata": {},
   "source": [
    "# Loops "
   ]
  },
  {
   "cell_type": "markdown",
   "metadata": {},
   "source": [
    "### \"For\" Loop"
   ]
  },
  {
   "cell_type": "code",
   "execution_count": 1,
   "metadata": {},
   "outputs": [
    {
     "name": "stdout",
     "output_type": "stream",
     "text": [
      "1\n",
      "2\n",
      "3\n",
      "4\n",
      "5\n"
     ]
    }
   ],
   "source": [
    "numbers=[1,2,3,4,5]\n",
    "for item in numbers:\n",
    "    print(item)"
   ]
  },
  {
   "cell_type": "code",
   "execution_count": 2,
   "metadata": {},
   "outputs": [
    {
     "name": "stdout",
     "output_type": "stream",
     "text": [
      "me@gmail.com\n",
      "me@hotmail.com\n",
      "me@reddifmail.com\n",
      "you@gmail.com\n"
     ]
    }
   ],
   "source": [
    "emails=['me@gmail.com','me@hotmail.com','me@reddifmail.com','you@gmail.com']\n",
    "for item in emails:\n",
    "    print(item)"
   ]
  },
  {
   "cell_type": "code",
   "execution_count": 3,
   "metadata": {
    "scrolled": true
   },
   "outputs": [
    {
     "name": "stdout",
     "output_type": "stream",
     "text": [
      "me@gmail.com\n",
      "you@gmail.com\n"
     ]
    }
   ],
   "source": [
    "## more specific data extraction\n",
    "emails=['me@gmail.com','me@hotmail.com','me@reddifmail.com','you@gmail.com']\n",
    "for item in emails:\n",
    "    if 'gmail' in item:\n",
    "        print(item)"
   ]
  },
  {
   "cell_type": "markdown",
   "metadata": {},
   "source": [
    "### User inputs"
   ]
  },
  {
   "cell_type": "code",
   "execution_count": 4,
   "metadata": {},
   "outputs": [
    {
     "name": "stdout",
     "output_type": "stream",
     "text": [
      "What planet are you from?Earth\n",
      "Earth\n"
     ]
    }
   ],
   "source": [
    "planet=input(\"What planet are you from?\")\n",
    "print(planet)"
   ]
  },
  {
   "cell_type": "code",
   "execution_count": 5,
   "metadata": {},
   "outputs": [
    {
     "name": "stdout",
     "output_type": "stream",
     "text": [
      "Enter rate : 60\n",
      "Enter USD's : 5\n",
      "300\n"
     ]
    }
   ],
   "source": [
    "def currency_con(rate,curr):\n",
    "    inr=curr*rate;\n",
    "    return inr\n",
    "\n",
    "r=int(input(\"Enter rate : \"))\n",
    "usd=int(input(\"Enter USD's : \"))\n",
    "print(currency_con(r,usd))"
   ]
  },
  {
   "cell_type": "markdown",
   "metadata": {},
   "source": [
    "### \"While\" Loop"
   ]
  },
  {
   "cell_type": "code",
   "execution_count": 6,
   "metadata": {},
   "outputs": [
    {
     "name": "stdout",
     "output_type": "stream",
     "text": [
      "Enter your password : passw\n",
      "Try again\n",
      "Enter your password : python234\n",
      "Successfully logged in !!\n"
     ]
    }
   ],
   "source": [
    "password=''\n",
    "while password != 'python234':\n",
    "    password=input(\"Enter your password : \")\n",
    "    if password == 'python234':\n",
    "        print(\"Successfully logged in !!\")\n",
    "    else:\n",
    "        print(\"Try again\")"
   ]
  },
  {
   "cell_type": "markdown",
   "metadata": {},
   "source": [
    "### Multiple Lists"
   ]
  },
  {
   "cell_type": "code",
   "execution_count": 7,
   "metadata": {},
   "outputs": [
    {
     "name": "stdout",
     "output_type": "stream",
     "text": [
      "Viren gmail\n",
      "Atulya hotmail\n",
      "Pranay reddifmail\n"
     ]
    }
   ],
   "source": [
    "names=['Viren','Atulya','Pranay']\n",
    "email_domain=['gmail','hotmail','reddifmail']\n",
    "\n",
    "for i,j in zip(names,email_domain):\n",
    "    print(i,j)\n"
   ]
  },
  {
   "cell_type": "code",
   "execution_count": null,
   "metadata": {},
   "outputs": [],
   "source": []
  }
 ],
 "metadata": {
  "kernelspec": {
   "display_name": "Python 3",
   "language": "python",
   "name": "python3"
  },
  "language_info": {
   "codemirror_mode": {
    "name": "ipython",
    "version": 3
   },
   "file_extension": ".py",
   "mimetype": "text/x-python",
   "name": "python",
   "nbconvert_exporter": "python",
   "pygments_lexer": "ipython3",
   "version": "3.5.0"
  }
 },
 "nbformat": 4,
 "nbformat_minor": 2
}
